{
 "cells": [
  {
   "cell_type": "markdown",
   "metadata": {},
   "source": [
    "# NLP & Text Mining <br> _A look into a year of dating_ \n",
    "***"
   ]
  },
  {
   "cell_type": "markdown",
   "metadata": {},
   "source": [
    "### Contents\n",
    "- [Intro](#intro)\n",
    "- [Accessing Raw Data](#access)\n",
    "- [Processing of Data](#process)\n",
    "- [Text Analysis](#analysis)\n",
    "- [Creating Wordcloud](#wordcloud)\n",
    "- [Conclusion](#conclusion)"
   ]
  },
  {
   "cell_type": "markdown",
   "metadata": {},
   "source": [
    "<a id='intro'></a>\n",
    "## Intro\n",
    "***\n",
    "This document outlines the process of putting together a suprise gift for my girlfriend for our anniversary. I thought the idea of creating a word cloud of all of our texts over the past year we have been dating would be a perfect gift for us to share."
   ]
  },
  {
   "cell_type": "markdown",
   "metadata": {},
   "source": [
    "<a id='access'></a>\n",
    "### Accessing Raw Data\n",
    "This is a project I had considered doing for a while now, but due to the hurdle of accessing the actual phone data (as I have  never attempted to), I hadn't prioitized it. It's actually pretty straightforward though, as the backup file is easily accesible through a SQLite database. I found this article very helpful, http://osxdaily.com/2010/07/08/read-iphone-sms-backup/."
   ]
  },
  {
   "cell_type": "code",
   "execution_count": 1,
   "metadata": {},
   "outputs": [],
   "source": [
    "import pandas as pd\n",
    "import numpy as np\n",
    "import sqlite3\n",
    "import scipy as sp\n",
    "import sklearn as sk\n",
    "import nltk\n",
    "from nltk.stem import PorterStemmer\n",
    "from nltk.tokenize import WordPunctTokenizer\n",
    "import codecs\n",
    "import re\n",
    "import copy\n",
    "import collections\n",
    "from __future__ import division\n",
    "import matplotlib.pyplot as plt\n",
    "%matplotlib inline"
   ]
  },
  {
   "cell_type": "code",
   "execution_count": 2,
   "metadata": {
    "scrolled": false
   },
   "outputs": [
    {
     "data": {
      "text/html": [
       "<div>\n",
       "<style scoped>\n",
       "    .dataframe tbody tr th:only-of-type {\n",
       "        vertical-align: middle;\n",
       "    }\n",
       "\n",
       "    .dataframe tbody tr th {\n",
       "        vertical-align: top;\n",
       "    }\n",
       "\n",
       "    .dataframe thead th {\n",
       "        text-align: right;\n",
       "    }\n",
       "</style>\n",
       "<table border=\"1\" class=\"dataframe\">\n",
       "  <thead>\n",
       "    <tr style=\"text-align: right;\">\n",
       "      <th></th>\n",
       "      <th>type</th>\n",
       "      <th>name</th>\n",
       "      <th>tbl_name</th>\n",
       "      <th>rootpage</th>\n",
       "      <th>sql</th>\n",
       "    </tr>\n",
       "  </thead>\n",
       "  <tbody>\n",
       "    <tr>\n",
       "      <th>0</th>\n",
       "      <td>table</td>\n",
       "      <td>_SqliteDatabaseProperties</td>\n",
       "      <td>_SqliteDatabaseProperties</td>\n",
       "      <td>2</td>\n",
       "      <td>CREATE TABLE _SqliteDatabaseProperties (key TE...</td>\n",
       "    </tr>\n",
       "    <tr>\n",
       "      <th>1</th>\n",
       "      <td>table</td>\n",
       "      <td>deleted_messages</td>\n",
       "      <td>deleted_messages</td>\n",
       "      <td>4</td>\n",
       "      <td>CREATE TABLE deleted_messages (ROWID INTEGER P...</td>\n",
       "    </tr>\n",
       "    <tr>\n",
       "      <th>2</th>\n",
       "      <td>table</td>\n",
       "      <td>sqlite_sequence</td>\n",
       "      <td>sqlite_sequence</td>\n",
       "      <td>6</td>\n",
       "      <td>CREATE TABLE sqlite_sequence(name,seq)</td>\n",
       "    </tr>\n",
       "    <tr>\n",
       "      <th>3</th>\n",
       "      <td>table</td>\n",
       "      <td>chat_handle_join</td>\n",
       "      <td>chat_handle_join</td>\n",
       "      <td>7</td>\n",
       "      <td>CREATE TABLE chat_handle_join (chat_id INTEGER...</td>\n",
       "    </tr>\n",
       "    <tr>\n",
       "      <th>4</th>\n",
       "      <td>table</td>\n",
       "      <td>sync_deleted_messages</td>\n",
       "      <td>sync_deleted_messages</td>\n",
       "      <td>9</td>\n",
       "      <td>CREATE TABLE sync_deleted_messages (ROWID INTE...</td>\n",
       "    </tr>\n",
       "    <tr>\n",
       "      <th>5</th>\n",
       "      <td>table</td>\n",
       "      <td>message_processing_task</td>\n",
       "      <td>message_processing_task</td>\n",
       "      <td>11</td>\n",
       "      <td>CREATE TABLE message_processing_task (ROWID IN...</td>\n",
       "    </tr>\n",
       "    <tr>\n",
       "      <th>6</th>\n",
       "      <td>table</td>\n",
       "      <td>handle</td>\n",
       "      <td>handle</td>\n",
       "      <td>13</td>\n",
       "      <td>CREATE TABLE handle (ROWID INTEGER PRIMARY KEY...</td>\n",
       "    </tr>\n",
       "    <tr>\n",
       "      <th>7</th>\n",
       "      <td>table</td>\n",
       "      <td>sync_deleted_chats</td>\n",
       "      <td>sync_deleted_chats</td>\n",
       "      <td>16</td>\n",
       "      <td>CREATE TABLE sync_deleted_chats (ROWID INTEGER...</td>\n",
       "    </tr>\n",
       "    <tr>\n",
       "      <th>8</th>\n",
       "      <td>table</td>\n",
       "      <td>message_attachment_join</td>\n",
       "      <td>message_attachment_join</td>\n",
       "      <td>18</td>\n",
       "      <td>CREATE TABLE message_attachment_join (message_...</td>\n",
       "    </tr>\n",
       "    <tr>\n",
       "      <th>9</th>\n",
       "      <td>table</td>\n",
       "      <td>sync_deleted_attachments</td>\n",
       "      <td>sync_deleted_attachments</td>\n",
       "      <td>20</td>\n",
       "      <td>CREATE TABLE sync_deleted_attachments (ROWID I...</td>\n",
       "    </tr>\n",
       "    <tr>\n",
       "      <th>10</th>\n",
       "      <td>table</td>\n",
       "      <td>kvtable</td>\n",
       "      <td>kvtable</td>\n",
       "      <td>22</td>\n",
       "      <td>CREATE TABLE kvtable (ROWID INTEGER PRIMARY KE...</td>\n",
       "    </tr>\n",
       "    <tr>\n",
       "      <th>11</th>\n",
       "      <td>table</td>\n",
       "      <td>chat_message_join</td>\n",
       "      <td>chat_message_join</td>\n",
       "      <td>25</td>\n",
       "      <td>CREATE TABLE chat_message_join (chat_id INTEGE...</td>\n",
       "    </tr>\n",
       "    <tr>\n",
       "      <th>12</th>\n",
       "      <td>table</td>\n",
       "      <td>message</td>\n",
       "      <td>message</td>\n",
       "      <td>27</td>\n",
       "      <td>CREATE TABLE message (ROWID INTEGER PRIMARY KE...</td>\n",
       "    </tr>\n",
       "    <tr>\n",
       "      <th>13</th>\n",
       "      <td>table</td>\n",
       "      <td>chat</td>\n",
       "      <td>chat</td>\n",
       "      <td>31</td>\n",
       "      <td>CREATE TABLE chat (ROWID INTEGER PRIMARY KEY A...</td>\n",
       "    </tr>\n",
       "    <tr>\n",
       "      <th>14</th>\n",
       "      <td>table</td>\n",
       "      <td>attachment</td>\n",
       "      <td>attachment</td>\n",
       "      <td>33</td>\n",
       "      <td>CREATE TABLE attachment (ROWID INTEGER PRIMARY...</td>\n",
       "    </tr>\n",
       "    <tr>\n",
       "      <th>15</th>\n",
       "      <td>table</td>\n",
       "      <td>sqlite_stat1</td>\n",
       "      <td>sqlite_stat1</td>\n",
       "      <td>36</td>\n",
       "      <td>CREATE TABLE sqlite_stat1(tbl,idx,stat)</td>\n",
       "    </tr>\n",
       "  </tbody>\n",
       "</table>\n",
       "</div>"
      ],
      "text/plain": [
       "     type                       name                   tbl_name  rootpage  \\\n",
       "0   table  _SqliteDatabaseProperties  _SqliteDatabaseProperties         2   \n",
       "1   table           deleted_messages           deleted_messages         4   \n",
       "2   table            sqlite_sequence            sqlite_sequence         6   \n",
       "3   table           chat_handle_join           chat_handle_join         7   \n",
       "4   table      sync_deleted_messages      sync_deleted_messages         9   \n",
       "5   table    message_processing_task    message_processing_task        11   \n",
       "6   table                     handle                     handle        13   \n",
       "7   table         sync_deleted_chats         sync_deleted_chats        16   \n",
       "8   table    message_attachment_join    message_attachment_join        18   \n",
       "9   table   sync_deleted_attachments   sync_deleted_attachments        20   \n",
       "10  table                    kvtable                    kvtable        22   \n",
       "11  table          chat_message_join          chat_message_join        25   \n",
       "12  table                    message                    message        27   \n",
       "13  table                       chat                       chat        31   \n",
       "14  table                 attachment                 attachment        33   \n",
       "15  table               sqlite_stat1               sqlite_stat1        36   \n",
       "\n",
       "                                                  sql  \n",
       "0   CREATE TABLE _SqliteDatabaseProperties (key TE...  \n",
       "1   CREATE TABLE deleted_messages (ROWID INTEGER P...  \n",
       "2              CREATE TABLE sqlite_sequence(name,seq)  \n",
       "3   CREATE TABLE chat_handle_join (chat_id INTEGER...  \n",
       "4   CREATE TABLE sync_deleted_messages (ROWID INTE...  \n",
       "5   CREATE TABLE message_processing_task (ROWID IN...  \n",
       "6   CREATE TABLE handle (ROWID INTEGER PRIMARY KEY...  \n",
       "7   CREATE TABLE sync_deleted_chats (ROWID INTEGER...  \n",
       "8   CREATE TABLE message_attachment_join (message_...  \n",
       "9   CREATE TABLE sync_deleted_attachments (ROWID I...  \n",
       "10  CREATE TABLE kvtable (ROWID INTEGER PRIMARY KE...  \n",
       "11  CREATE TABLE chat_message_join (chat_id INTEGE...  \n",
       "12  CREATE TABLE message (ROWID INTEGER PRIMARY KE...  \n",
       "13  CREATE TABLE chat (ROWID INTEGER PRIMARY KEY A...  \n",
       "14  CREATE TABLE attachment (ROWID INTEGER PRIMARY...  \n",
       "15            CREATE TABLE sqlite_stat1(tbl,idx,stat)  "
      ]
     },
     "execution_count": 2,
     "metadata": {},
     "output_type": "execute_result"
    }
   ],
   "source": [
    "path = \"C:/Users/earthur/Desktop/DS Projects/NLP Text Mining/\"\n",
    "database = path + \"3d0d7e5fb2ce288813306e4d4636395e047a3d28\"\n",
    "\n",
    "con = sqlite3.connect(database)\n",
    "\n",
    "tables = pd.read_sql(\"\"\"SELECT *\n",
    "                        FROM sqlite_master\n",
    "                        WHERE type='table';\"\"\", con)\n",
    "tables"
   ]
  },
  {
   "cell_type": "markdown",
   "metadata": {},
   "source": [
    ">I actually queried through the tables in DB Browser in order to find which conversation was ours, as I found this to be the most efficent way of finding the data I will actually need. Once I realized it was stored as 2 under the 'handle_id' column in the message table, I was ready for the next steps"
   ]
  },
  {
   "cell_type": "markdown",
   "metadata": {},
   "source": [
    "<a id='process'></a>\n",
    "### Processing of Data\n",
    "***\n",
    "The next step was the simple task of selecting the necessary data and give it a litte cleaning, for better readability"
   ]
  },
  {
   "cell_type": "code",
   "execution_count": 3,
   "metadata": {},
   "outputs": [
    {
     "data": {
      "text/plain": [
       "(30386, 3)"
      ]
     },
     "execution_count": 3,
     "metadata": {},
     "output_type": "execute_result"
    }
   ],
   "source": [
    "messages = pd.read_sql_query(\"\"\"SELECT is_from_me, text, date\n",
    "                             FROM message\n",
    "                             WHERE handle_id = 2;\"\"\", con)\n",
    "messages.shape"
   ]
  },
  {
   "cell_type": "code",
   "execution_count": 4,
   "metadata": {
    "scrolled": true
   },
   "outputs": [
    {
     "data": {
      "text/html": [
       "<div>\n",
       "<style scoped>\n",
       "    .dataframe tbody tr th:only-of-type {\n",
       "        vertical-align: middle;\n",
       "    }\n",
       "\n",
       "    .dataframe tbody tr th {\n",
       "        vertical-align: top;\n",
       "    }\n",
       "\n",
       "    .dataframe thead th {\n",
       "        text-align: right;\n",
       "    }\n",
       "</style>\n",
       "<table border=\"1\" class=\"dataframe\">\n",
       "  <thead>\n",
       "    <tr style=\"text-align: right;\">\n",
       "      <th></th>\n",
       "      <th>is_from_me</th>\n",
       "      <th>text</th>\n",
       "      <th>date</th>\n",
       "    </tr>\n",
       "  </thead>\n",
       "  <tbody>\n",
       "    <tr>\n",
       "      <th>0</th>\n",
       "      <td>1</td>\n",
       "      <td>GUESS WHO GOT THEIR FANCY IPHONE</td>\n",
       "      <td>532910153263780992</td>\n",
       "    </tr>\n",
       "    <tr>\n",
       "      <th>1</th>\n",
       "      <td>1</td>\n",
       "      <td>Time to celebrate!</td>\n",
       "      <td>532910184918495872</td>\n",
       "    </tr>\n",
       "    <tr>\n",
       "      <th>2</th>\n",
       "      <td>0</td>\n",
       "      <td>Stooopppp 😍😍😍</td>\n",
       "      <td>532910211115078464</td>\n",
       "    </tr>\n",
       "    <tr>\n",
       "      <th>3</th>\n",
       "      <td>0</td>\n",
       "      <td>Liked “GUESS WHO GOT THEIR FANCY IPHONE”</td>\n",
       "      <td>532910217918880960</td>\n",
       "    </tr>\n",
       "    <tr>\n",
       "      <th>4</th>\n",
       "      <td>0</td>\n",
       "      <td>Loved “Time to celebrate!”</td>\n",
       "      <td>532910223570463168</td>\n",
       "    </tr>\n",
       "  </tbody>\n",
       "</table>\n",
       "</div>"
      ],
      "text/plain": [
       "   is_from_me                                      text                date\n",
       "0           1          GUESS WHO GOT THEIR FANCY IPHONE  532910153263780992\n",
       "1           1                        Time to celebrate!  532910184918495872\n",
       "2           0                             Stooopppp 😍😍😍  532910211115078464\n",
       "3           0  Liked “GUESS WHO GOT THEIR FANCY IPHONE”  532910217918880960\n",
       "4           0                Loved “Time to celebrate!”  532910223570463168"
      ]
     },
     "execution_count": 4,
     "metadata": {},
     "output_type": "execute_result"
    }
   ],
   "source": [
    "messages.head()"
   ]
  },
  {
   "cell_type": "markdown",
   "metadata": {},
   "source": [
    ">LOL. I loved going back and seeing these first texts. So technically, this isn't our first FULL year together, as it's clear I got a new phone in between but it's fairly close, probably a month into our relationship. But we were certainly excited :)"
   ]
  },
  {
   "cell_type": "code",
   "execution_count": 5,
   "metadata": {},
   "outputs": [
    {
     "data": {
      "text/html": [
       "<div>\n",
       "<style scoped>\n",
       "    .dataframe tbody tr th:only-of-type {\n",
       "        vertical-align: middle;\n",
       "    }\n",
       "\n",
       "    .dataframe tbody tr th {\n",
       "        vertical-align: top;\n",
       "    }\n",
       "\n",
       "    .dataframe thead th {\n",
       "        text-align: right;\n",
       "    }\n",
       "</style>\n",
       "<table border=\"1\" class=\"dataframe\">\n",
       "  <thead>\n",
       "    <tr style=\"text-align: right;\">\n",
       "      <th></th>\n",
       "      <th>sender</th>\n",
       "      <th>text</th>\n",
       "      <th>date</th>\n",
       "    </tr>\n",
       "  </thead>\n",
       "  <tbody>\n",
       "    <tr>\n",
       "      <th>0</th>\n",
       "      <td>me</td>\n",
       "      <td>GUESS WHO GOT THEIR FANCY IPHONE</td>\n",
       "      <td>532910153263780992</td>\n",
       "    </tr>\n",
       "    <tr>\n",
       "      <th>1</th>\n",
       "      <td>me</td>\n",
       "      <td>Time to celebrate!</td>\n",
       "      <td>532910184918495872</td>\n",
       "    </tr>\n",
       "    <tr>\n",
       "      <th>2</th>\n",
       "      <td>girlfriend</td>\n",
       "      <td>Stooopppp 😍😍😍</td>\n",
       "      <td>532910211115078464</td>\n",
       "    </tr>\n",
       "    <tr>\n",
       "      <th>3</th>\n",
       "      <td>girlfriend</td>\n",
       "      <td>Liked “GUESS WHO GOT THEIR FANCY IPHONE”</td>\n",
       "      <td>532910217918880960</td>\n",
       "    </tr>\n",
       "    <tr>\n",
       "      <th>4</th>\n",
       "      <td>girlfriend</td>\n",
       "      <td>Loved “Time to celebrate!”</td>\n",
       "      <td>532910223570463168</td>\n",
       "    </tr>\n",
       "  </tbody>\n",
       "</table>\n",
       "</div>"
      ],
      "text/plain": [
       "       sender                                      text                date\n",
       "0          me          GUESS WHO GOT THEIR FANCY IPHONE  532910153263780992\n",
       "1          me                        Time to celebrate!  532910184918495872\n",
       "2  girlfriend                             Stooopppp 😍😍😍  532910211115078464\n",
       "3  girlfriend  Liked “GUESS WHO GOT THEIR FANCY IPHONE”  532910217918880960\n",
       "4  girlfriend                Loved “Time to celebrate!”  532910223570463168"
      ]
     },
     "execution_count": 5,
     "metadata": {},
     "output_type": "execute_result"
    }
   ],
   "source": [
    "# Just a little cleaning\n",
    "messages.rename(index=str, columns={'is_from_me':'sender'}, inplace=True)\n",
    "sender = {1:'me', 0:'girlfriend'}\n",
    "messages.sender = [sender[item] for item in messages.sender]\n",
    "messages.head()"
   ]
  },
  {
   "cell_type": "markdown",
   "metadata": {},
   "source": [
    "<a id='analysis'></a>\n",
    "### Text Analysis\n",
    "***\n",
    "Now that the data has been properly explored and prepped, we can move on to the basic text-mining and NLP methods. In order to properly analyze it, we first need to install a corpus, save our messages to a txt file, and then implement a couple functions that will count the absolute and relative frequencies of our words. This will give us the ability to easily view our data as table or plot."
   ]
  },
  {
   "cell_type": "code",
   "execution_count": 6,
   "metadata": {},
   "outputs": [
    {
     "name": "stdout",
     "output_type": "stream",
     "text": [
      "[nltk_data] Downloading package stopwords to\n",
      "[nltk_data]     C:\\Users\\earthur\\AppData\\Roaming\\nltk_data...\n",
      "[nltk_data]   Package stopwords is already up-to-date!\n"
     ]
    },
    {
     "data": {
      "text/plain": [
       "True"
      ]
     },
     "execution_count": 6,
     "metadata": {},
     "output_type": "execute_result"
    }
   ],
   "source": [
    "nltk.download('stopwords')"
   ]
  },
  {
   "cell_type": "code",
   "execution_count": 7,
   "metadata": {},
   "outputs": [],
   "source": [
    "from nltk.corpus import stopwords"
   ]
  },
  {
   "cell_type": "code",
   "execution_count": 8,
   "metadata": {},
   "outputs": [],
   "source": [
    "# Saving to txt file for readability\n",
    "messages['text'].to_csv(r'texts.txt', header=None, index=None, sep=' ', mode='a')"
   ]
  },
  {
   "cell_type": "code",
   "execution_count": 9,
   "metadata": {},
   "outputs": [],
   "source": [
    "# This codecs open command specifies how to read the newly made txt file\n",
    "with codecs.open('texts.txt', 'r', encoding='utf-8') as t:\n",
    "    texts = t.read()"
   ]
  },
  {
   "cell_type": "code",
   "execution_count": 10,
   "metadata": {},
   "outputs": [],
   "source": [
    "# Our checklist of words we don't want to include. Adding some others to the list that aren't necessary\n",
    "esw = stopwords.words('english')\n",
    "esw.extend(['https', 'www', 'com', 'utm', 'ig_share'])\n",
    "word_pattern = re.compile(\"^\\w+$\") # Filter tokens"
   ]
  },
  {
   "cell_type": "code",
   "execution_count": 11,
   "metadata": {},
   "outputs": [],
   "source": [
    "# Creating a token counter\n",
    "def get_text_counter(text):\n",
    "    tokens = WordPunctTokenizer().tokenize(PorterStemmer().stem(text))\n",
    "    tokens = list(map(lambda x: x.lower(), tokens))\n",
    "    tokens = [token for token in tokens if re.match(word_pattern, token) and token not in esw]\n",
    "    return collections.Counter(tokens), len(tokens)"
   ]
  },
  {
   "cell_type": "code",
   "execution_count": 12,
   "metadata": {},
   "outputs": [],
   "source": [
    "# Creating a a function to calculate the abs and rel freq\n",
    "def make_df(counter, size):\n",
    "    abs_freq = np.array([el[1] for el in counter])\n",
    "    rel_freq = abs_freq / size\n",
    "    index = [el[0] for el in counter]\n",
    "    df = pd.DataFrame(data=np.array([abs_freq, rel_freq]).T, index=index, columns=['Absolute Frequency', 'Relative Frequency'])\n",
    "    df.index.name = 'Most common words'\n",
    "    return df"
   ]
  },
  {
   "cell_type": "code",
   "execution_count": 13,
   "metadata": {},
   "outputs": [
    {
     "data": {
      "text/html": [
       "<div>\n",
       "<style scoped>\n",
       "    .dataframe tbody tr th:only-of-type {\n",
       "        vertical-align: middle;\n",
       "    }\n",
       "\n",
       "    .dataframe tbody tr th {\n",
       "        vertical-align: top;\n",
       "    }\n",
       "\n",
       "    .dataframe thead th {\n",
       "        text-align: right;\n",
       "    }\n",
       "</style>\n",
       "<table border=\"1\" class=\"dataframe\">\n",
       "  <thead>\n",
       "    <tr style=\"text-align: right;\">\n",
       "      <th></th>\n",
       "      <th>Absolute Frequency</th>\n",
       "      <th>Relative Frequency</th>\n",
       "    </tr>\n",
       "    <tr>\n",
       "      <th>Most common words</th>\n",
       "      <th></th>\n",
       "      <th></th>\n",
       "    </tr>\n",
       "  </thead>\n",
       "  <tbody>\n",
       "    <tr>\n",
       "      <th>lol</th>\n",
       "      <td>13950.0</td>\n",
       "      <td>0.013147</td>\n",
       "    </tr>\n",
       "    <tr>\n",
       "      <th>like</th>\n",
       "      <td>11530.0</td>\n",
       "      <td>0.010866</td>\n",
       "    </tr>\n",
       "    <tr>\n",
       "      <th>yeah</th>\n",
       "      <td>11370.0</td>\n",
       "      <td>0.010716</td>\n",
       "    </tr>\n",
       "    <tr>\n",
       "      <th>get</th>\n",
       "      <td>10080.0</td>\n",
       "      <td>0.009500</td>\n",
       "    </tr>\n",
       "    <tr>\n",
       "      <th>also</th>\n",
       "      <td>9780.0</td>\n",
       "      <td>0.009217</td>\n",
       "    </tr>\n",
       "    <tr>\n",
       "      <th>need</th>\n",
       "      <td>8000.0</td>\n",
       "      <td>0.007540</td>\n",
       "    </tr>\n",
       "    <tr>\n",
       "      <th>home</th>\n",
       "      <td>7810.0</td>\n",
       "      <td>0.007360</td>\n",
       "    </tr>\n",
       "    <tr>\n",
       "      <th>one</th>\n",
       "      <td>7450.0</td>\n",
       "      <td>0.007021</td>\n",
       "    </tr>\n",
       "    <tr>\n",
       "      <th>want</th>\n",
       "      <td>7390.0</td>\n",
       "      <td>0.006965</td>\n",
       "    </tr>\n",
       "    <tr>\n",
       "      <th>know</th>\n",
       "      <td>7320.0</td>\n",
       "      <td>0.006899</td>\n",
       "    </tr>\n",
       "    <tr>\n",
       "      <th>good</th>\n",
       "      <td>6930.0</td>\n",
       "      <td>0.006531</td>\n",
       "    </tr>\n",
       "    <tr>\n",
       "      <th>going</th>\n",
       "      <td>6110.0</td>\n",
       "      <td>0.005758</td>\n",
       "    </tr>\n",
       "    <tr>\n",
       "      <th>sorry</th>\n",
       "      <td>6080.0</td>\n",
       "      <td>0.005730</td>\n",
       "    </tr>\n",
       "    <tr>\n",
       "      <th>go</th>\n",
       "      <td>5960.0</td>\n",
       "      <td>0.005617</td>\n",
       "    </tr>\n",
       "    <tr>\n",
       "      <th>time</th>\n",
       "      <td>5550.0</td>\n",
       "      <td>0.005231</td>\n",
       "    </tr>\n",
       "    <tr>\n",
       "      <th>think</th>\n",
       "      <td>5410.0</td>\n",
       "      <td>0.005099</td>\n",
       "    </tr>\n",
       "    <tr>\n",
       "      <th>love</th>\n",
       "      <td>5380.0</td>\n",
       "      <td>0.005070</td>\n",
       "    </tr>\n",
       "    <tr>\n",
       "      <th>much</th>\n",
       "      <td>5370.0</td>\n",
       "      <td>0.005061</td>\n",
       "    </tr>\n",
       "    <tr>\n",
       "      <th>babe</th>\n",
       "      <td>5010.0</td>\n",
       "      <td>0.004722</td>\n",
       "    </tr>\n",
       "    <tr>\n",
       "      <th>god</th>\n",
       "      <td>4830.0</td>\n",
       "      <td>0.004552</td>\n",
       "    </tr>\n",
       "  </tbody>\n",
       "</table>\n",
       "</div>"
      ],
      "text/plain": [
       "                   Absolute Frequency  Relative Frequency\n",
       "Most common words                                        \n",
       "lol                           13950.0            0.013147\n",
       "like                          11530.0            0.010866\n",
       "yeah                          11370.0            0.010716\n",
       "get                           10080.0            0.009500\n",
       "also                           9780.0            0.009217\n",
       "need                           8000.0            0.007540\n",
       "home                           7810.0            0.007360\n",
       "one                            7450.0            0.007021\n",
       "want                           7390.0            0.006965\n",
       "know                           7320.0            0.006899\n",
       "good                           6930.0            0.006531\n",
       "going                          6110.0            0.005758\n",
       "sorry                          6080.0            0.005730\n",
       "go                             5960.0            0.005617\n",
       "time                           5550.0            0.005231\n",
       "think                          5410.0            0.005099\n",
       "love                           5380.0            0.005070\n",
       "much                           5370.0            0.005061\n",
       "babe                           5010.0            0.004722\n",
       "god                            4830.0            0.004552"
      ]
     },
     "execution_count": 13,
     "metadata": {},
     "output_type": "execute_result"
    }
   ],
   "source": [
    "counter, size = get_text_counter(texts)\n",
    "make_df(counter.most_common(20), size)"
   ]
  },
  {
   "cell_type": "code",
   "execution_count": 14,
   "metadata": {},
   "outputs": [
    {
     "data": {
      "image/png": "[encoded data removed]",
      "text/plain": [
       "<Figure size 1080x864 with 1 Axes>"
      ]
     },
     "metadata": {},
     "output_type": "display_data"
    }
   ],
   "source": [
    "make_df(counter.most_common(20), size)['Absolute Frequency'].plot(kind='bar', figsize=(15,12), color='green')\n",
    "plt.title('Most Frequent Words', fontsize='xx-large')\n",
    "plt.ylabel('Word Frequencies', fontsize='xx-large')\n",
    "plt.style.use('seaborn-darkgrid');"
   ]
  },
  {
   "cell_type": "markdown",
   "metadata": {},
   "source": [
    "<a id='wordcloud'></a>\n",
    "### Creating Wordcloud\n",
    "***\n",
    "Now for the best part. This is actually a pretty straightforward task that simply requires utilizing the wordcloud library. All I had to do was write a quick function that would import the desired mask, generate the object, and save the output."
   ]
  },
  {
   "cell_type": "code",
   "execution_count": 15,
   "metadata": {},
   "outputs": [
    {
     "name": "stdout",
     "output_type": "stream",
     "text": [
      "Requirement already satisfied: wordcloud in c:\\users\\earthur\\appdata\\local\\continuum\\anaconda3\\lib\\site-packages (1.5.0)\n",
      "Requirement already satisfied: pillow in c:\\users\\earthur\\appdata\\local\\continuum\\anaconda3\\lib\\site-packages (from wordcloud) (5.1.0)\n",
      "Requirement already satisfied: numpy>=1.6.1 in c:\\users\\earthur\\appdata\\local\\continuum\\anaconda3\\lib\\site-packages (from wordcloud) (1.14.3)\n"
     ]
    },
    {
     "name": "stderr",
     "output_type": "stream",
     "text": [
      "distributed 1.21.8 requires msgpack, which is not installed.\n",
      "You are using pip version 10.0.1, however version 18.0 is available.\n",
      "You should consider upgrading via the 'python -m pip install --upgrade pip' command.\n"
     ]
    },
    {
     "name": "stdout",
     "output_type": "stream",
     "text": [
      "Collecting PIL\n"
     ]
    },
    {
     "name": "stderr",
     "output_type": "stream",
     "text": [
      "  Could not find a version that satisfies the requirement PIL (from versions: )\n",
      "No matching distribution found for PIL\n",
      "You are using pip version 10.0.1, however version 18.0 is available.\n",
      "You should consider upgrading via the 'python -m pip install --upgrade pip' command.\n"
     ]
    }
   ],
   "source": [
    "!pip install wordcloud\n",
    "from wordcloud import WordCloud\n",
    "!pip install PIL\n",
    "from PIL import Image\n",
    "import os"
   ]
  },
  {
   "cell_type": "code",
   "execution_count": 16,
   "metadata": {},
   "outputs": [],
   "source": [
    "def create_wordcloud(text):\n",
    "    mask = np.array(Image.open(os.path.join(path, 'Heart Mask.jpg')))\n",
    "    \n",
    "    wc = WordCloud(mask=mask, background_color='black', stopwords=esw).generate(text)\n",
    "    wc.to_file(os.path.join(path, 'Word Cloud.jpg'))"
   ]
  },
  {
   "cell_type": "code",
   "execution_count": 17,
   "metadata": {},
   "outputs": [],
   "source": [
    "create_wordcloud(texts)"
   ]
  },
  {
   "cell_type": "code",
   "execution_count": 18,
   "metadata": {},
   "outputs": [
    {
     "data": {
      "image/jpeg": "[encoded data removed]",
      "text/plain": [
       "<IPython.core.display.Image object>"
      ]
     },
     "execution_count": 18,
     "metadata": {},
     "output_type": "execute_result"
    }
   ],
   "source": [
    "from IPython.display import Image\n",
    "Image(filename='Word Cloud.jpg') "
   ]
  },
  {
   "cell_type": "markdown",
   "metadata": {},
   "source": [
    "<a id='conclusion'></a>\n",
    "## Conclusion\n",
    "---\n",
    "\n",
    "I'm a little surprised to see \"love\" isn't higher, but at least we laugh a lot :) I can spot a few other words and pieces of conjunctions, as well as few cases of the same word being counted seperately due to different case (Lol & lol). So there is definitely some fine-tuning with the stopwords for me to do later. But overall, this was an extremely satisfying experience. It was a great opportunity to utilize a newly learned technique to explore data I am passionate about. The end result was just a beautiful bonus."
   ]
  }
 ],
 "metadata": {
  "kernelspec": {
   "display_name": "Python 3",
   "language": "python",
   "name": "python3"
  },
  "language_info": {
   "codemirror_mode": {
    "name": "ipython",
    "version": 3
   },
   "file_extension": ".py",
   "mimetype": "text/x-python",
   "name": "python",
   "nbconvert_exporter": "python",
   "pygments_lexer": "ipython3",
   "version": "3.6.5"
  }
 },
 "nbformat": 4,
 "nbformat_minor": 2
}
