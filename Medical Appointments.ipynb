{
 "cells": [
  {
   "cell_type": "markdown",
   "metadata": {},
   "source": [
    "\n",
    "\n",
    "# What makes a patient a no-show?\n",
    "## A Brief Look through medical appointment data \n",
    "\n",
    "## Table of Contents\n",
    "<ul>\n",
    "<li><a href=\"#intro\">Introduction</a></li>\n",
    "<li><a href=\"#wrangling\">Data Wrangling</a></li>\n",
    "<li><a href=\"#eda\">Exploratory Data Analysis</a></li>\n",
    "<li><a href=\"#conclusions\">Conclusions</a></li>\n",
    "</ul>"
   ]
  },
  {
   "cell_type": "markdown",
   "metadata": {},
   "source": [
    "<a id='intro'></a>\n",
    "## Introduction\n",
    "\n",
    "<p> For this analysis, I will be using the No Show Appointments dataset, which is originally from Kaggle. It is a collection of information on over 100,000 medical appointments in Brazil. The data has basic information on the date of the appointment and when it was scheduled, along with various health characteristics of the patient such as, whether they have diabetes, or are an alcolohic, among others.</p>\n",
    "    <p>So based off this information, can we predict whether a patient is more likely to be a no-show to his or her appointment? This analysis will serve to try to answer this question through observations gathered from the dataset, some of which will be...</p>\n",
    "    <p>&nbsp; &nbsp;-Does age affect the likelhood of a patient being a no-show?\n",
    "    <dd>&nbsp; &nbsp;-What about existing health conditions (Hypertension, diabetes, etc.)?</dd>\n",
    "    <dd>&nbsp; &nbsp;-How does time between the scheduling of the appointment to its actual date, affect whether or not a patient will show up?</dt>"
   ]
  },
  {
   "cell_type": "code",
   "execution_count": 1,
   "metadata": {},
   "outputs": [],
   "source": [
    "#Importing of necessary libraries\n",
    "import numpy as np\n",
    "import pandas as pd\n",
    "import datetime\n",
    "import matplotlib.pyplot as plt\n",
    "% matplotlib inline"
   ]
  },
  {
   "cell_type": "markdown",
   "metadata": {},
   "source": [
    "<a id='wrangling'></a>\n",
    "## Data Wrangling\n",
    "\n",
    "Upon loading the necessary libraries, the first step is loading the dataset. I will also run a couple functions to help better understand the data, and assess what sort of cleaning will be needed in order to conduct proper analyses with it.\n",
    "\n",
    "### General Properties"
   ]
  },
  {
   "cell_type": "code",
   "execution_count": 2,
   "metadata": {},
   "outputs": [
    {
     "name": "stdout",
     "output_type": "stream",
     "text": [
      "<class 'pandas.core.frame.DataFrame'>\n",
      "RangeIndex: 110527 entries, 0 to 110526\n",
      "Data columns (total 14 columns):\n",
      "PatientId         110527 non-null float64\n",
      "AppointmentID     110527 non-null int64\n",
      "Gender            110527 non-null object\n",
      "ScheduledDay      110527 non-null object\n",
      "AppointmentDay    110527 non-null object\n",
      "Age               110527 non-null int64\n",
      "Neighbourhood     110527 non-null object\n",
      "Scholarship       110527 non-null int64\n",
      "Hipertension      110527 non-null int64\n",
      "Diabetes          110527 non-null int64\n",
      "Alcoholism        110527 non-null int64\n",
      "Handcap           110527 non-null int64\n",
      "SMS_received      110527 non-null int64\n",
      "No-show           110527 non-null object\n",
      "dtypes: float64(1), int64(8), object(5)\n",
      "memory usage: 11.8+ MB\n",
      "None\n",
      "          PatientId  AppointmentID            Age    Scholarship  \\\n",
      "count  1.105270e+05   1.105270e+05  110527.000000  110527.000000   \n",
      "mean   1.474963e+14   5.675305e+06      37.088874       0.098266   \n",
      "std    2.560949e+14   7.129575e+04      23.110205       0.297675   \n",
      "min    3.921784e+04   5.030230e+06      -1.000000       0.000000   \n",
      "25%    4.172614e+12   5.640286e+06      18.000000       0.000000   \n",
      "50%    3.173184e+13   5.680573e+06      37.000000       0.000000   \n",
      "75%    9.439172e+13   5.725524e+06      55.000000       0.000000   \n",
      "max    9.999816e+14   5.790484e+06     115.000000       1.000000   \n",
      "\n",
      "        Hipertension       Diabetes     Alcoholism        Handcap  \\\n",
      "count  110527.000000  110527.000000  110527.000000  110527.000000   \n",
      "mean        0.197246       0.071865       0.030400       0.022248   \n",
      "std         0.397921       0.258265       0.171686       0.161543   \n",
      "min         0.000000       0.000000       0.000000       0.000000   \n",
      "25%         0.000000       0.000000       0.000000       0.000000   \n",
      "50%         0.000000       0.000000       0.000000       0.000000   \n",
      "75%         0.000000       0.000000       0.000000       0.000000   \n",
      "max         1.000000       1.000000       1.000000       4.000000   \n",
      "\n",
      "        SMS_received  \n",
      "count  110527.000000  \n",
      "mean        0.321026  \n",
      "std         0.466873  \n",
      "min         0.000000  \n",
      "25%         0.000000  \n",
      "50%         0.000000  \n",
      "75%         1.000000  \n",
      "max         1.000000  \n",
      "      PatientId  AppointmentID Gender          ScheduledDay  \\\n",
      "0  2.987250e+13        5642903      F  2016-04-29T18:38:08Z   \n",
      "1  5.589978e+14        5642503      M  2016-04-29T16:08:27Z   \n",
      "2  4.262962e+12        5642549      F  2016-04-29T16:19:04Z   \n",
      "3  8.679512e+11        5642828      F  2016-04-29T17:29:31Z   \n",
      "4  8.841186e+12        5642494      F  2016-04-29T16:07:23Z   \n",
      "\n",
      "         AppointmentDay  Age      Neighbourhood  Scholarship  Hipertension  \\\n",
      "0  2016-04-29T00:00:00Z   62    JARDIM DA PENHA            0             1   \n",
      "1  2016-04-29T00:00:00Z   56    JARDIM DA PENHA            0             0   \n",
      "2  2016-04-29T00:00:00Z   62      MATA DA PRAIA            0             0   \n",
      "3  2016-04-29T00:00:00Z    8  PONTAL DE CAMBURI            0             0   \n",
      "4  2016-04-29T00:00:00Z   56    JARDIM DA PENHA            0             1   \n",
      "\n",
      "   Diabetes  Alcoholism  Handcap  SMS_received No-show  \n",
      "0         0           0        0             0      No  \n",
      "1         0           0        0             0      No  \n",
      "2         0           0        0             0      No  \n",
      "3         0           0        0             0      No  \n",
      "4         1           0        0             0      No  \n"
     ]
    }
   ],
   "source": [
    "df = pd.read_csv('noshowappointments-kagglev2-may-2016.csv')\n",
    "print(df.info())\n",
    "print(df.describe())\n",
    "print(df.head())"
   ]
  },
  {
   "cell_type": "markdown",
   "metadata": {},
   "source": [
    "> Some insights are readily apparant such as the average age of patients is around 23. The percentage of patients with hipertension, at 40%, appears fairly high in comparison to our other health metrics like diabetes and alcoholism, both at 26% and 17% respectively. But obviously the data needs to be checked for errors/oddities before making such conclusions (the -1 min in the age field for example). Also of note, there are no null values, so no replacing necessary. But most importantly, the No-show values (our dependent variable) is of the object data type, as yes-no values. In order to properly conduct this study, we need to modify this so they are binary integers, similar to our other values.\n",
    "\n",
    "### Data Cleaning\n",
    "<d>Let's take a look at each column and see if any others need cleaning"
   ]
  },
  {
   "cell_type": "code",
   "execution_count": 3,
   "metadata": {},
   "outputs": [],
   "source": [
    "#First, I'll change the column headers to snake_case to avoid errors on my end as I work through the analysis\n",
    "\n",
    "df.columns = ['patient_id', 'appointment_id', 'gender', 'scheduled_day', 'appointment_day',\n",
    "              'age', 'neighborhood', 'scholarship', 'hypertension', 'diabetes',\n",
    "              'alcoholism', 'handicap', 'sms_received', 'no_show']"
   ]
  },
  {
   "cell_type": "markdown",
   "metadata": {},
   "source": [
    "__*patient_id & appointment_id*__\n",
    "<br>Self-explanatory values. Not much manipulation other than making sure that each appointment has a unique id"
   ]
  },
  {
   "cell_type": "code",
   "execution_count": 4,
   "metadata": {},
   "outputs": [
    {
     "data": {
      "text/plain": [
       "110527"
      ]
     },
     "execution_count": 4,
     "metadata": {},
     "output_type": "execute_result"
    }
   ],
   "source": [
    "df['appointment_id'].nunique()"
   ]
  },
  {
   "cell_type": "markdown",
   "metadata": {},
   "source": [
    "__*scheduled_day & appointment_day*__\n",
    "<br>Also pretty self-explanatory values. Here, I want to convert both to the datetime format and then parse them into a column with the days between the scheduling and the actual appointment to see if there's any correlation to a no-show"
   ]
  },
  {
   "cell_type": "code",
   "execution_count": 5,
   "metadata": {},
   "outputs": [],
   "source": [
    "#Conversion of the scheduled-appointment columns\n",
    "df['scheduled_day'] = pd.to_datetime(df['scheduled_day'], format='%Y-%m-%dT%H:%M:%SZ')\n",
    "df['appointment_day'] = pd.to_datetime(df['appointment_day'], format='%Y-%m-%dT%H:%M:%SZ')"
   ]
  },
  {
   "cell_type": "code",
   "execution_count": 6,
   "metadata": {},
   "outputs": [],
   "source": [
    "#Creation of new column 'hour_scheduled' for further analysis later\n",
    "df['scheduled_hour'] = df['scheduled_day'].apply(lambda x: x.hour)"
   ]
  },
  {
   "cell_type": "code",
   "execution_count": 7,
   "metadata": {},
   "outputs": [],
   "source": [
    "#Function to return the date from the time\n",
    "def day(datetime_object):\n",
    "    return datetime_object.date()\n",
    "\n",
    "#Creation of new column 'days_between' as the difference between the day scheduled and actual appointment day\n",
    "df['days_between'] = df['appointment_day'].apply(day) - df['scheduled_day'].apply(day)\n",
    "#Change dtype to int\n",
    "df['days_between'] = (df['days_between'].astype('timedelta64[D]')).astype(int)"
   ]
  },
  {
   "cell_type": "code",
   "execution_count": 8,
   "metadata": {},
   "outputs": [],
   "source": [
    "#Now to create new column grouping the days_between into ranges (lettering to keep groups in order)\n",
    "days_between_labels = pd.Series([\n",
    "    'A: Same Day',\n",
    "    'B: 1-3 Days',\n",
    "    'C: 4-7 Days',\n",
    "    'D: 8-14 Days',\n",
    "    'E: 14-30 Days',\n",
    "    'F: 31+ Days'\n",
    " ])\n",
    "df['days_between_group'] = pd.cut(df['days_between'], bins = [-1, 0, 3, 7, 14, 30, 200],\n",
    "                                 labels=days_between_labels)"
   ]
  },
  {
   "cell_type": "markdown",
   "metadata": {},
   "source": [
    "__*gender*__\n",
    "<br>Again, values speak for itself. I'll count up each value to see how it stacks up"
   ]
  },
  {
   "cell_type": "code",
   "execution_count": 9,
   "metadata": {},
   "outputs": [
    {
     "data": {
      "text/plain": [
       "F    71840\n",
       "M    38687\n",
       "Name: gender, dtype: int64"
      ]
     },
     "execution_count": 9,
     "metadata": {},
     "output_type": "execute_result"
    }
   ],
   "source": [
    "df.gender.value_counts()"
   ]
  },
  {
   "cell_type": "markdown",
   "metadata": {},
   "source": [
    "__*age*__\n",
    "<br> Let's group these into buckets in a new column to see how differently, if at all, no show patients are across age groups"
   ]
  },
  {
   "cell_type": "code",
   "execution_count": 10,
   "metadata": {},
   "outputs": [
    {
     "data": {
      "text/plain": [
       "0    17476\n",
       "5    15863\n",
       "3    15171\n",
       "4    14209\n",
       "2    13699\n",
       "1    12936\n",
       "6    11876\n",
       "7     5934\n",
       "8     2946\n",
       "9      417\n",
       "Name: generation, dtype: int64"
      ]
     },
     "execution_count": 10,
     "metadata": {},
     "output_type": "execute_result"
    }
   ],
   "source": [
    "df['generation'] = df['age'].apply(lambda x: min(int(x / 10), 9))\n",
    "df['generation'].value_counts()"
   ]
  },
  {
   "cell_type": "markdown",
   "metadata": {},
   "source": [
    "__*neighborhood*__\n",
    "<br> This refers to the neighborhood of the hospital. No manipulation necessary"
   ]
  },
  {
   "cell_type": "code",
   "execution_count": 11,
   "metadata": {},
   "outputs": [
    {
     "data": {
      "text/plain": [
       "81"
      ]
     },
     "execution_count": 11,
     "metadata": {},
     "output_type": "execute_result"
    }
   ],
   "source": [
    "df['neighborhood'].nunique()"
   ]
  },
  {
   "cell_type": "markdown",
   "metadata": {},
   "source": [
    "__*sms_recieved, scholarship, hypertension, diabetes, & alcoholism*__\n",
    "<br> All of these fields are binary integers, 1: yes, 2: no. sms refers to whether a patient received a text reminder of their appointment or not, scholarship refers to a patient's healthcare status, and  the health characteristics represent whether a patient has each ailment or not"
   ]
  },
  {
   "cell_type": "markdown",
   "metadata": {},
   "source": [
    "__*handicap*__\n",
    "<br> This value adds up the number of ailments (scholarship status included). The only manipulation here will be to create a seperate column indicating if a patient as any ailment at all"
   ]
  },
  {
   "cell_type": "code",
   "execution_count": 12,
   "metadata": {},
   "outputs": [],
   "source": [
    "df['is_handicapped'] = df['handicap'] > 0"
   ]
  },
  {
   "cell_type": "markdown",
   "metadata": {},
   "source": [
    "__*no_show*__\n",
    "<br> Our dependent variable. First we have to change it from a string value of 'yes' or 'no' to an int of 1 or 0, similar to our other health characteristics. Lastly, I will create masks for the numbers of no shows and shows to simplify my analysis"
   ]
  },
  {
   "cell_type": "code",
   "execution_count": 13,
   "metadata": {},
   "outputs": [],
   "source": [
    "#Now to change the no-show variable from 'yes-no' to ints\n",
    "df['no_show'] = df['no_show'].map({'Yes': 1, 'No': 0})"
   ]
  },
  {
   "cell_type": "code",
   "execution_count": 14,
   "metadata": {},
   "outputs": [],
   "source": [
    "#Create masks\n",
    "no_show = df.no_show == True\n",
    "show = df.no_show == False"
   ]
  },
  {
   "cell_type": "markdown",
   "metadata": {},
   "source": [
    "<a id='eda'></a>\n",
    "## Exploratory Data Analysis\n",
    "\n",
    "Now that the data is cleaned up to our liking, we are ready to explore it. Through statistic computation and visualizations, let's see if we can figure out how to best know if a patient will be a no show.\n",
    "\n",
    "### Are men or women more likely to be a no show?"
   ]
  },
  {
   "cell_type": "code",
   "execution_count": 15,
   "metadata": {},
   "outputs": [
    {
     "data": {
      "image/png": "[encoded data removed]",
      "text/plain": [
       "<matplotlib.figure.Figure at 0x7fab8f4af5c0>"
      ]
     },
     "metadata": {},
     "output_type": "display_data"
    }
   ],
   "source": [
    "#Creation of bar chart showing relationship between variables with percentages to show just how close they are\n",
    "df.groupby('gender').no_show.mean()\n",
    "df.groupby('gender').no_show.mean().plot(kind='bar')\n",
    "plt.title('No Show Rates Across Genders')\n",
    "plt.xlabel('Generation')\n",
    "plt.ylabel('No Show Rate');"
   ]
  },
  {
   "cell_type": "markdown",
   "metadata": {},
   "source": [
    ">So almost identical really. Nothing to see here."
   ]
  },
  {
   "cell_type": "markdown",
   "metadata": {},
   "source": [
    "### What about age? Is this a factor?"
   ]
  },
  {
   "cell_type": "code",
   "execution_count": 16,
   "metadata": {},
   "outputs": [
    {
     "data": {
      "image/png": "[encoded data removed]",
      "text/plain": [
       "<matplotlib.figure.Figure at 0x7fab90080780>"
      ]
     },
     "metadata": {},
     "output_type": "display_data"
    }
   ],
   "source": [
    "#Creation of bar chart showing relationship between variables\n",
    "df.groupby('generation').no_show.mean().plot(kind='bar')\n",
    "plt.title('No Show Rates For Different Age Groups')\n",
    "plt.xlabel('Generation')\n",
    "plt.ylabel('No Show Rate');"
   ]
  },
  {
   "cell_type": "markdown",
   "metadata": {},
   "source": [
    ">So in general, the younger the patient, the more likely they are to miss their appointment, with the exception of the youngest group (ages 0-9). This is probably due to, in most cases, them being accompanied by their parents who have the control of them showing up or not."
   ]
  },
  {
   "cell_type": "markdown",
   "metadata": {},
   "source": [
    "### Does the day the appointment was scheduled in relation to the day of matter?"
   ]
  },
  {
   "cell_type": "code",
   "execution_count": 17,
   "metadata": {},
   "outputs": [
    {
     "data": {
      "image/png": "[encoded data removed]",
      "text/plain": [
       "<matplotlib.figure.Figure at 0x7fab900c4390>"
      ]
     },
     "metadata": {},
     "output_type": "display_data"
    }
   ],
   "source": [
    "#Creation of histogram showing relationship between variables\n",
    "df.days_between_group[no_show].hist(label='no show', figsize=(20, 8), align='left')\n",
    "plt.title('No Show Rates Based on Day of Scheduling vs Appointment Day')\n",
    "plt.xlabel('Days From Scheduling to Appointment')\n",
    "plt.ylabel('No Shows');"
   ]
  },
  {
   "cell_type": "markdown",
   "metadata": {},
   "source": [
    ">As one would expect, same day schedulings have the lowest no show rates. Also to no surprise, the further out a patient schedules the date, the more likely they are to not show for the appointment, with the exception of the 8-14 day window, which is a surprise."
   ]
  },
  {
   "cell_type": "markdown",
   "metadata": {},
   "source": [
    "### Does a text message notification increase or decrease the likelihood of a patient being a no show?"
   ]
  },
  {
   "cell_type": "code",
   "execution_count": 18,
   "metadata": {},
   "outputs": [
    {
     "name": "stdout",
     "output_type": "stream",
     "text": [
      "sms_received\n",
      "0    0.167033\n",
      "1    0.275745\n",
      "Name: no_show, dtype: float64\n"
     ]
    },
    {
     "data": {
      "image/png": "[encoded data removed]",
      "text/plain": [
       "<matplotlib.figure.Figure at 0x7fab904e41d0>"
      ]
     },
     "metadata": {},
     "output_type": "display_data"
    }
   ],
   "source": [
    "#Creation of bar chart showing relationship between variables\n",
    "df.groupby('sms_received').no_show.mean().plot(kind='bar')\n",
    "plt.title('Rate of No Shows Compared to Text Reminder Received')\n",
    "plt.xlabel('Notified Prior to Appointment')\n",
    "plt.ylabel('No Shows');\n",
    "print(df.groupby('sms_received').no_show.mean())"
   ]
  },
  {
   "cell_type": "markdown",
   "metadata": {},
   "source": [
    ">This is surprising. It appears patients who are notified via text message are significantly more likely to miss their appointment."
   ]
  },
  {
   "cell_type": "markdown",
   "metadata": {},
   "source": [
    "### How do health conditions affect a patient's likelihood of showing up for their appointment?"
   ]
  },
  {
   "cell_type": "code",
   "execution_count": 19,
   "metadata": {},
   "outputs": [
    {
     "name": "stdout",
     "output_type": "stream",
     "text": [
      "scholarship\n",
      "0    0.198072\n",
      "1    0.237363\n",
      "Name: no_show, dtype: float64\n"
     ]
    },
    {
     "data": {
      "image/png": "[encoded data removed]",
      "text/plain": [
       "<matplotlib.figure.Figure at 0x7fab90415e10>"
      ]
     },
     "metadata": {},
     "output_type": "display_data"
    }
   ],
   "source": [
    "#Creation of bar chart showing relationship between variables\n",
    "df.groupby('scholarship').no_show.mean().plot(kind='bar')\n",
    "plt.title('Rate of No Shows Compared to Healthcare Status')\n",
    "plt.xlabel('Patients with Healthcare')\n",
    "plt.ylabel('No Shows');\n",
    "print(df.groupby('scholarship').no_show.mean())"
   ]
  },
  {
   "cell_type": "code",
   "execution_count": 20,
   "metadata": {},
   "outputs": [
    {
     "name": "stdout",
     "output_type": "stream",
     "text": [
      "hypertension\n",
      "0    0.209037\n",
      "1    0.173020\n",
      "Name: no_show, dtype: float64\n"
     ]
    },
    {
     "data": {
      "image/png": "[encoded data removed]",
      "text/plain": [
       "<matplotlib.figure.Figure at 0x7fab9044fda0>"
      ]
     },
     "metadata": {},
     "output_type": "display_data"
    }
   ],
   "source": [
    "#Creation of bar chart showing relationship between variables\n",
    "df.groupby('hypertension').no_show.mean().plot(kind='bar')\n",
    "plt.title('Rate of No Shows Compared to Patients with Hypertension')\n",
    "plt.xlabel('Patients with Hypertension')\n",
    "plt.ylabel('No Shows');\n",
    "print(df.groupby('hypertension').no_show.mean())"
   ]
  },
  {
   "cell_type": "code",
   "execution_count": 21,
   "metadata": {},
   "outputs": [
    {
     "name": "stdout",
     "output_type": "stream",
     "text": [
      "diabetes\n",
      "0    0.203628\n",
      "1    0.180033\n",
      "Name: no_show, dtype: float64\n"
     ]
    },
    {
     "data": {
      "image/png": "[encoded data removed]",
      "text/plain": [
       "<matplotlib.figure.Figure at 0x7fab90355eb8>"
      ]
     },
     "metadata": {},
     "output_type": "display_data"
    }
   ],
   "source": [
    "#Creation of bar chart showing relationship between variables\n",
    "df.groupby('diabetes').no_show.mean().plot(kind='bar')\n",
    "plt.title('Rate of No Shows Compared to Patients with Diabetes')\n",
    "plt.xlabel('Patients with Diabetes')\n",
    "plt.ylabel('No Shows');\n",
    "print(df.groupby('diabetes').no_show.mean())"
   ]
  },
  {
   "cell_type": "code",
   "execution_count": 22,
   "metadata": {},
   "outputs": [
    {
     "name": "stdout",
     "output_type": "stream",
     "text": [
      "alcoholism\n",
      "0    0.201946\n",
      "1    0.201488\n",
      "Name: no_show, dtype: float64\n"
     ]
    },
    {
     "data": {
      "image/png": "[encoded data removed]",
      "text/plain": [
       "<matplotlib.figure.Figure at 0x7fab90343588>"
      ]
     },
     "metadata": {},
     "output_type": "display_data"
    }
   ],
   "source": [
    "#Creation of bar chart showing relationship between variables\n",
    "df.groupby('alcoholism').no_show.mean().plot(kind='bar')\n",
    "plt.title('Rate of No Shows Compared to Patients with Alcoholism')\n",
    "plt.xlabel('Patients with Alcoholism')\n",
    "plt.ylabel('No Shows');\n",
    "print(df.groupby('alcoholism').no_show.mean())"
   ]
  },
  {
   "cell_type": "code",
   "execution_count": 23,
   "metadata": {},
   "outputs": [
    {
     "name": "stdout",
     "output_type": "stream",
     "text": [
      "is_handicapped\n",
      "False    0.202353\n",
      "True     0.181615\n",
      "Name: no_show, dtype: float64\n"
     ]
    },
    {
     "data": {
      "image/png": "[encoded data removed]",
      "text/plain": [
       "<matplotlib.figure.Figure at 0x7fab902a5be0>"
      ]
     },
     "metadata": {},
     "output_type": "display_data"
    }
   ],
   "source": [
    "#Creation of bar chart showing relationship between variables\n",
    "df.groupby('is_handicapped').no_show.mean().plot(kind='bar')\n",
    "plt.title('Rate of No Shows Compared to Handicapped Patients')\n",
    "plt.xlabel('Handicapped Patients')\n",
    "plt.ylabel('No Shows');\n",
    "print(df.groupby('is_handicapped').no_show.mean())"
   ]
  },
  {
   "cell_type": "markdown",
   "metadata": {},
   "source": [
    ">So patients with healthcare are no shows more often than those without. Patients with hypertension and diabetes show up more regularly than those without either condition. There is no distinction between alcoholics and no shows. And in general, handicapped patients are slightly less frequently no shows."
   ]
  },
  {
   "cell_type": "markdown",
   "metadata": {},
   "source": [
    "<a id='conclusions'></a>\n",
    "## Conclusions\n",
    "\n",
    "So can we definitely predict if a patient will be a no show or not? After looking at the data across each column I think we can come to some conclusions that could better paint a picture of patients who are more likely to miss out on an appointment. Some of these findings are...\n",
    "<p>&nbsp; &nbsp;-The further in advance a patient schedules an appointment, the more likely they are to miss it\n",
    "    <dd>&nbsp; &nbsp;-Surprisingly, a reminder text not only doesn't work; it appears to have the opposite effect</dd>\n",
    "    <dd>&nbsp; &nbsp;-Gender doesn't appear to matter but age does, as significantly more younger patients are no shows</dd>\n",
    "    <dd>&nbsp; &nbsp;-Patients with healthcare are more often no shows than those without and in terms of ailments, patients with handicaps are less likely to be no shows</p>\n",
    "\n",
    "The findings of this study provide some insight into predicting whether a patient is going to show up to an appointment or not. But it is only a small insight, given the size and small window of time of this dataset. To draw further, more in-depth conclusions, a larger more extensive dataset will be needed."
   ]
  }
 ],
 "metadata": {
  "kernelspec": {
   "display_name": "Python [default]",
   "language": "python",
   "name": "python3"
  },
  "language_info": {
   "codemirror_mode": {
    "name": "ipython",
    "version": 3
   },
   "file_extension": ".py",
   "mimetype": "text/x-python",
   "name": "python",
   "nbconvert_exporter": "python",
   "pygments_lexer": "ipython3",
   "version": "3.6.5"
  }
 },
 "nbformat": 4,
 "nbformat_minor": 2
}
